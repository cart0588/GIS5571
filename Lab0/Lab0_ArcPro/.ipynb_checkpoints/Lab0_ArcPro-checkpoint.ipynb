{
 "cells": [
  {
   "cell_type": "code",
   "execution_count": 15,
   "metadata": {},
   "outputs": [
    {
     "name": "stdout",
     "output_type": "stream",
     "text": [
      "Help on function Buffer in module arcpy.analysis:\n",
      "\n",
      "Buffer(in_features=None, out_feature_class=None, buffer_distance_or_field=None, line_side=None, line_end_type=None, dissolve_option=None, dissolve_field=None, method=None)\n",
      "    Buffer_analysis(in_features, out_feature_class, buffer_distance_or_field, {line_side}, {line_end_type}, {dissolve_option}, {dissolve_field;dissolve_field...}, {method})\n",
      "    \n",
      "       Creates buffer polygons around input features to a specified distance.\n",
      "    \n",
      "    INPUTS:\n",
      "     in_features (Feature Layer):\n",
      "         The input point, line, or polygon features to be buffered.\n",
      "     buffer_distance_or_field (Linear Unit / Field):\n",
      "         The distance around the input features that will be buffered.\n",
      "         Distances can be provided as either a value representing a linear\n",
      "         distance or as a field from the input features that contains the\n",
      "         distance to buffer each feature.If linear units are not specified or\n",
      "         are entered as Unknown, the\n",
      "         linear unit of the input features' spatial reference will be used.When\n",
      "         specifying a distance, if the desired linear unit has two words,\n",
      "         such as Decimal Degrees, combine the two words into one (for example,\n",
      "         20 DecimalDegrees).\n",
      "     line_side {String}:\n",
      "         Specifies the sides of the input features that will be buffered. This\n",
      "         parameter is only supported for polygon and line features.\n",
      "    \n",
      "         * FULL-For lines, buffers will be generated on both sides of the line.\n",
      "         For polygons, buffers will be generated around the polygon and will\n",
      "         contain and overlap the area of the input features. This is the\n",
      "         default.\n",
      "    \n",
      "         * LEFT-For lines, buffers will be generated on the topological left of\n",
      "         the line. This option is not supported for polygon input features.\n",
      "    \n",
      "         * RIGHT-For lines, buffers will be generated on the topological right\n",
      "         of the line. This option is not supported for polygon input features.\n",
      "    \n",
      "         * OUTSIDE_ONLY-For polygons, buffers will be generated outside the\n",
      "         input polygon only (the area inside the input polygon will be erased\n",
      "         from the output buffer). This option is not supported for line input\n",
      "         features.\n",
      "         This optional parameter is not available with a Desktop Basic or\n",
      "         Desktop Standard license.\n",
      "     line_end_type {String}:\n",
      "         Specifies the shape of the buffer at the end of line input features.\n",
      "         This parameter is not valid for polygon input features.\n",
      "    \n",
      "         * ROUND-The ends of the buffer will be round, in the shape of a half\n",
      "         circle. This is the default.\n",
      "    \n",
      "         * FLAT-The ends of the buffer will be flat or squared and will end at\n",
      "         the endpoint of the input line feature.\n",
      "         This optional parameter is not available with a Desktop Basic or\n",
      "         Desktop Standard license.\n",
      "     dissolve_option {String}:\n",
      "         Specifies the type of dissolve that will be performed to remove buffer\n",
      "         overlap.\n",
      "    \n",
      "         * NONE-An individual buffer for each feature will be maintained,\n",
      "         regardless of overlap. This is the default.\n",
      "    \n",
      "         * ALL-All buffers will be dissolved together into a single feature,\n",
      "         removing any overlap.\n",
      "    \n",
      "         * LIST-Any buffers sharing attribute values in the listed fields\n",
      "         (carried over from the input features) will be dissolved.\n",
      "     dissolve_field {Field}:\n",
      "         The list of fields from the input features on which the output buffers\n",
      "         will be dissolved. Any buffers sharing attribute values in the listed\n",
      "         fields (carried over from the input features) will be dissolved.\n",
      "     method {String}:\n",
      "         Specifies whether the planar or geodesic method will be used to create\n",
      "         the buffers.\n",
      "    \n",
      "         * PLANAR-If the input features are in a projected coordinate system,\n",
      "         Euclidean buffers will be created. If the input features are in a\n",
      "         geographic coordinate system and the buffer distance is in linear\n",
      "         units (meters, feet, and so forth, as opposed to angular units such as\n",
      "         degrees), geodesic buffers will be created. This is the default. You\n",
      "         can use the Output Coordinate System environment setting to specify\n",
      "         the coordinate system to use. For example, if your input features are\n",
      "         in a projected coordinate system, you can set the environment to a\n",
      "         geographic coordinate system to create geodesic buffers.\n",
      "    \n",
      "         * GEODESIC-All buffers will be created using a shape-preserving\n",
      "         geodesic buffer method, regardless of the input coordinate system.\n",
      "    \n",
      "    OUTPUTS:\n",
      "     out_feature_class (Feature Class):\n",
      "         The feature class containing the output buffers.\n",
      "\n"
     ]
    }
   ],
   "source": [
    "import arcpy\n",
    "help(arcpy.analysis.Buffer)\n",
    "gis = GIS(\"Pro\")"
   ]
  },
  {
   "cell_type": "code",
   "execution_count": 14,
   "metadata": {},
   "outputs": [
    {
     "ename": "SyntaxError",
     "evalue": "invalid syntax (<string>, line 1)",
     "output_type": "error",
     "traceback": [
      "\u001b[0;31m---------------------------------------------------------------------------\u001b[0m\n\u001b[0;31mSyntaxError\u001b[0m                               Traceback (most recent call last)",
      "File \u001b[0;34mC:\\Program Files\\ArcGIS\\Pro\\bin\\Python\\envs\\arcgispro-py3\\Lib\\ast.py\u001b[0m, in \u001b[0;32mparse\u001b[0m:\nLine \u001b[0;34m50\u001b[0m:    \u001b[34mreturn\u001b[39;49;00m \u001b[36mcompile\u001b[39;49;00m(source, filename, mode, flags,\n",
      "\u001b[0;31mSyntaxError\u001b[0m: invalid syntax (<string>, line 1)\n\u001b[0;31m---------------------------------------------------------------------------\u001b[0m"
     ]
    }
   ],
   "source": [
    "arcpy.analysis.Buffer(in_features=\"G:\\My Drive\\GIS5571_ArcGIS_I\\Lab0\\shp_trans_road_centerlines\\rcl.shp\", buffer_distance_or_field=100 Meters)\n"
   ]
  },
  {
   "cell_type": "code",
   "execution_count": null,
   "metadata": {},
   "outputs": [],
   "source": []
  }
 ],
 "metadata": {
  "kernelspec": {
   "display_name": "ArcGISPro",
   "language": "Python",
   "name": "python3"
  },
  "language_info": {
   "file_extension": ".py",
   "name": "python",
   "version": "3"
  }
 },
 "nbformat": 4,
 "nbformat_minor": 2
}
